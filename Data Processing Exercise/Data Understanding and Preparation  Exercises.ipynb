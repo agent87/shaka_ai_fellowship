{
 "cells": [
  {
   "cell_type": "markdown",
   "metadata": {},
   "source": [
    " # Data understanding and Preparation  \n",
    "Please try to complete the following steps mentioned in this notebook. You must use the following datasets\"\n",
    "1. [Transaction Data Set](https://docs.google.com/spreadsheets/d/1ypBwn11Dx1jgkJ31QPEUhHH8KS1x4p93iEDczLRphKc/edit#gid=10930346)\n",
    "2.  [Product Data Set](https://docs.google.com/spreadsheets/d/18KvUOxJWXD6IZdOxmIxudEpbZSTkwDkZmVthNYiL8Qw/edit#gid=2133147773)\n",
    "3.  [Customer Data Set ](https://docs.google.com/spreadsheets/d/1wx8vT5_oSJq6-cY3g5YPNEO47fE3jzcudtqIwjXYi1c/edit#gid=110025385)"
   ]
  },
  {
   "cell_type": "code",
   "execution_count": 2,
   "metadata": {},
   "outputs": [],
   "source": [
    "import pandas as pd\n",
    "import numpy as np\n",
    "import matplotlib as plt"
   ]
  },
  {
   "cell_type": "markdown",
   "metadata": {},
   "source": [
    "## Question 1\n",
    "combine transactions_data with product_data"
   ]
  },
  {
   "cell_type": "markdown",
   "metadata": {},
   "source": [
    "**Import the Data**"
   ]
  },
  {
   "cell_type": "code",
   "execution_count": 3,
   "metadata": {},
   "outputs": [],
   "source": [
    "trans_df = pd.read_csv('transaction.csv')\n",
    "prod_df = pd.read_csv('product.csv')\n",
    "cust_df = pd.read_csv('customer.csv')"
   ]
  },
  {
   "cell_type": "code",
   "execution_count": 4,
   "metadata": {
    "scrolled": true
   },
   "outputs": [
    {
     "output_type": "execute_result",
     "data": {
      "text/plain": "   PRODUCT CODE PRODUCT CATEGORY UNIT LIST PRICE\n0         30001  HEALTH & BEAUTY           $7.45\n1         30002  HEALTH & BEAUTY           $5.35\n2         30003  HEALTH & BEAUTY           $5.49\n3         30004  HEALTH & BEAUTY           $6.46\n4         30005  HEALTH & BEAUTY           $7.33",
      "text/html": "<div>\n<style scoped>\n    .dataframe tbody tr th:only-of-type {\n        vertical-align: middle;\n    }\n\n    .dataframe tbody tr th {\n        vertical-align: top;\n    }\n\n    .dataframe thead th {\n        text-align: right;\n    }\n</style>\n<table border=\"1\" class=\"dataframe\">\n  <thead>\n    <tr style=\"text-align: right;\">\n      <th></th>\n      <th>PRODUCT CODE</th>\n      <th>PRODUCT CATEGORY</th>\n      <th>UNIT LIST PRICE</th>\n    </tr>\n  </thead>\n  <tbody>\n    <tr>\n      <th>0</th>\n      <td>30001</td>\n      <td>HEALTH &amp; BEAUTY</td>\n      <td>$7.45</td>\n    </tr>\n    <tr>\n      <th>1</th>\n      <td>30002</td>\n      <td>HEALTH &amp; BEAUTY</td>\n      <td>$5.35</td>\n    </tr>\n    <tr>\n      <th>2</th>\n      <td>30003</td>\n      <td>HEALTH &amp; BEAUTY</td>\n      <td>$5.49</td>\n    </tr>\n    <tr>\n      <th>3</th>\n      <td>30004</td>\n      <td>HEALTH &amp; BEAUTY</td>\n      <td>$6.46</td>\n    </tr>\n    <tr>\n      <th>4</th>\n      <td>30005</td>\n      <td>HEALTH &amp; BEAUTY</td>\n      <td>$7.33</td>\n    </tr>\n  </tbody>\n</table>\n</div>"
     },
     "metadata": {},
     "execution_count": 4
    }
   ],
   "source": [
    "prod_df.head()"
   ]
  },
  {
   "cell_type": "code",
   "execution_count": 5,
   "metadata": {},
   "outputs": [
    {
     "output_type": "execute_result",
     "data": {
      "text/plain": "   CUSTOMER NUM  PRODUCT NUM  QUANTITY PURCHASED  DISCOUNT TAKEN  \\\n0         10114        30011                 4.0             0.0   \n1         10217        30016                 3.0             0.0   \n2         10224        30013                 4.0             0.2   \n3         10103        30012                 3.0             0.0   \n4         10037        30010                 8.0             0.0   \n\n  TRANSACTION DATE  STOCKOUT  \n0         1/2/2015       0.0  \n1         1/3/2015       0.0  \n2         1/4/2015       0.0  \n3         1/5/2015       0.0  \n4         1/6/2015       0.0  ",
      "text/html": "<div>\n<style scoped>\n    .dataframe tbody tr th:only-of-type {\n        vertical-align: middle;\n    }\n\n    .dataframe tbody tr th {\n        vertical-align: top;\n    }\n\n    .dataframe thead th {\n        text-align: right;\n    }\n</style>\n<table border=\"1\" class=\"dataframe\">\n  <thead>\n    <tr style=\"text-align: right;\">\n      <th></th>\n      <th>CUSTOMER NUM</th>\n      <th>PRODUCT NUM</th>\n      <th>QUANTITY PURCHASED</th>\n      <th>DISCOUNT TAKEN</th>\n      <th>TRANSACTION DATE</th>\n      <th>STOCKOUT</th>\n    </tr>\n  </thead>\n  <tbody>\n    <tr>\n      <th>0</th>\n      <td>10114</td>\n      <td>30011</td>\n      <td>4.0</td>\n      <td>0.0</td>\n      <td>1/2/2015</td>\n      <td>0.0</td>\n    </tr>\n    <tr>\n      <th>1</th>\n      <td>10217</td>\n      <td>30016</td>\n      <td>3.0</td>\n      <td>0.0</td>\n      <td>1/3/2015</td>\n      <td>0.0</td>\n    </tr>\n    <tr>\n      <th>2</th>\n      <td>10224</td>\n      <td>30013</td>\n      <td>4.0</td>\n      <td>0.2</td>\n      <td>1/4/2015</td>\n      <td>0.0</td>\n    </tr>\n    <tr>\n      <th>3</th>\n      <td>10103</td>\n      <td>30012</td>\n      <td>3.0</td>\n      <td>0.0</td>\n      <td>1/5/2015</td>\n      <td>0.0</td>\n    </tr>\n    <tr>\n      <th>4</th>\n      <td>10037</td>\n      <td>30010</td>\n      <td>8.0</td>\n      <td>0.0</td>\n      <td>1/6/2015</td>\n      <td>0.0</td>\n    </tr>\n  </tbody>\n</table>\n</div>"
     },
     "metadata": {},
     "execution_count": 5
    }
   ],
   "source": [
    "trans_df.head()"
   ]
  },
  {
   "cell_type": "code",
   "execution_count": 44,
   "metadata": {},
   "outputs": [
    {
     "output_type": "execute_result",
     "data": {
      "text/plain": "   CUSTOMERID  GENDER  AGE    INCOME  EXPERIENCE SCORE LOYALTY GROUP  \\\n0       10001       0   64  $133,498                 5      enrolled   \n1       10002       0   42   $94,475                 9   notenrolled   \n2       10003       0   40   $88,610                 9      enrolled   \n3       10004       0   38   $84,313                 8      enrolled   \n4       10005       0   30   $51,498                 3   notenrolled   \n\n  ENROLLMENT DATE  HOUSEHOLD SIZE MARITAL STATUS TOTAL SPENT TOTAL APPAREL  \\\n0      06-03-2013               4         Single        None          None   \n1             NaN               6        Married        None          None   \n2      02-09-2010               5        Married        None          None   \n3      06-04-2015               1         Single        None          None   \n4             NaN               1         Single        None          None   \n\n  TOTAL ELECTRONICS LAST TRANSACTION  \n0              None             None  \n1              None             None  \n2              None             None  \n3              None             None  \n4              None             None  ",
      "text/html": "<div>\n<style scoped>\n    .dataframe tbody tr th:only-of-type {\n        vertical-align: middle;\n    }\n\n    .dataframe tbody tr th {\n        vertical-align: top;\n    }\n\n    .dataframe thead th {\n        text-align: right;\n    }\n</style>\n<table border=\"1\" class=\"dataframe\">\n  <thead>\n    <tr style=\"text-align: right;\">\n      <th></th>\n      <th>CUSTOMERID</th>\n      <th>GENDER</th>\n      <th>AGE</th>\n      <th>INCOME</th>\n      <th>EXPERIENCE SCORE</th>\n      <th>LOYALTY GROUP</th>\n      <th>ENROLLMENT DATE</th>\n      <th>HOUSEHOLD SIZE</th>\n      <th>MARITAL STATUS</th>\n      <th>TOTAL SPENT</th>\n      <th>TOTAL APPAREL</th>\n      <th>TOTAL ELECTRONICS</th>\n      <th>LAST TRANSACTION</th>\n    </tr>\n  </thead>\n  <tbody>\n    <tr>\n      <th>0</th>\n      <td>10001</td>\n      <td>0</td>\n      <td>64</td>\n      <td>$133,498</td>\n      <td>5</td>\n      <td>enrolled</td>\n      <td>06-03-2013</td>\n      <td>4</td>\n      <td>Single</td>\n      <td>None</td>\n      <td>None</td>\n      <td>None</td>\n      <td>None</td>\n    </tr>\n    <tr>\n      <th>1</th>\n      <td>10002</td>\n      <td>0</td>\n      <td>42</td>\n      <td>$94,475</td>\n      <td>9</td>\n      <td>notenrolled</td>\n      <td>NaN</td>\n      <td>6</td>\n      <td>Married</td>\n      <td>None</td>\n      <td>None</td>\n      <td>None</td>\n      <td>None</td>\n    </tr>\n    <tr>\n      <th>2</th>\n      <td>10003</td>\n      <td>0</td>\n      <td>40</td>\n      <td>$88,610</td>\n      <td>9</td>\n      <td>enrolled</td>\n      <td>02-09-2010</td>\n      <td>5</td>\n      <td>Married</td>\n      <td>None</td>\n      <td>None</td>\n      <td>None</td>\n      <td>None</td>\n    </tr>\n    <tr>\n      <th>3</th>\n      <td>10004</td>\n      <td>0</td>\n      <td>38</td>\n      <td>$84,313</td>\n      <td>8</td>\n      <td>enrolled</td>\n      <td>06-04-2015</td>\n      <td>1</td>\n      <td>Single</td>\n      <td>None</td>\n      <td>None</td>\n      <td>None</td>\n      <td>None</td>\n    </tr>\n    <tr>\n      <th>4</th>\n      <td>10005</td>\n      <td>0</td>\n      <td>30</td>\n      <td>$51,498</td>\n      <td>3</td>\n      <td>notenrolled</td>\n      <td>NaN</td>\n      <td>1</td>\n      <td>Single</td>\n      <td>None</td>\n      <td>None</td>\n      <td>None</td>\n      <td>None</td>\n    </tr>\n  </tbody>\n</table>\n</div>"
     },
     "metadata": {},
     "execution_count": 44
    }
   ],
   "source": [
    "cust_df.head()"
   ]
  },
  {
   "cell_type": "code",
   "execution_count": 51,
   "metadata": {},
   "outputs": [],
   "source": [
    "#function to match products to their respective codes in transactions\n",
    "def match_():\n",
    "    prod_cat_list = []\n",
    "    price_list = []\n",
    "    for i in range(len(trans_df)):\n",
    "        for x in range(len(prod_df)):\n",
    "            if trans_df['PRODUCT NUM'][i] == prod_df['PRODUCT CODE'][x]:\n",
    "                prod_cat_list.append(prod_df['PRODUCT CATEGORY'][x])\n",
    "                price_list.append(prod_df['UNIT LIST PRICE'][x])\n",
    "    return prod_cat_list, price_list"
   ]
  },
  {
   "cell_type": "code",
   "execution_count": 62,
   "metadata": {},
   "outputs": [],
   "source": [
    "#function to combine transactions with products\n",
    "def combine_(): \n",
    "    #combine variable name for Products and Transactions\n",
    "    data_PT = trans_df\n",
    "    data_PT['PRODUCT CATEGORY'], data_PT['UNIT PRICE'] = match_()\n",
    "    #We arrange the table to be intuitevily easy to percieive and understand for the common user.\n",
    "    return data_PT"
   ]
  },
  {
   "cell_type": "code",
   "execution_count": 63,
   "metadata": {},
   "outputs": [
    {
     "output_type": "execute_result",
     "data": {
      "text/plain": "   CUSTOMER NUM  PRODUCT NUM  QUANTITY PURCHASED  DISCOUNT TAKEN  \\\n0         10114        30011                 4.0             0.0   \n1         10217        30016                 3.0             0.0   \n2         10224        30013                 4.0             0.2   \n3         10103        30012                 3.0             0.0   \n4         10037        30010                 8.0             0.0   \n\n  TRANSACTION DATE  STOCKOUT PRODUCT CATEGORY UNIT PRICE  \n0         1/2/2015       0.0          APPAREL     $25.46  \n1         1/3/2015       0.0          APPAREL     $29.31  \n2         1/4/2015       0.0          APPAREL     $26.85  \n3         1/5/2015       0.0          APPAREL     $28.51  \n4         1/6/2015       0.0          APPAREL     $25.27  ",
      "text/html": "<div>\n<style scoped>\n    .dataframe tbody tr th:only-of-type {\n        vertical-align: middle;\n    }\n\n    .dataframe tbody tr th {\n        vertical-align: top;\n    }\n\n    .dataframe thead th {\n        text-align: right;\n    }\n</style>\n<table border=\"1\" class=\"dataframe\">\n  <thead>\n    <tr style=\"text-align: right;\">\n      <th></th>\n      <th>CUSTOMER NUM</th>\n      <th>PRODUCT NUM</th>\n      <th>QUANTITY PURCHASED</th>\n      <th>DISCOUNT TAKEN</th>\n      <th>TRANSACTION DATE</th>\n      <th>STOCKOUT</th>\n      <th>PRODUCT CATEGORY</th>\n      <th>UNIT PRICE</th>\n    </tr>\n  </thead>\n  <tbody>\n    <tr>\n      <th>0</th>\n      <td>10114</td>\n      <td>30011</td>\n      <td>4.0</td>\n      <td>0.0</td>\n      <td>1/2/2015</td>\n      <td>0.0</td>\n      <td>APPAREL</td>\n      <td>$25.46</td>\n    </tr>\n    <tr>\n      <th>1</th>\n      <td>10217</td>\n      <td>30016</td>\n      <td>3.0</td>\n      <td>0.0</td>\n      <td>1/3/2015</td>\n      <td>0.0</td>\n      <td>APPAREL</td>\n      <td>$29.31</td>\n    </tr>\n    <tr>\n      <th>2</th>\n      <td>10224</td>\n      <td>30013</td>\n      <td>4.0</td>\n      <td>0.2</td>\n      <td>1/4/2015</td>\n      <td>0.0</td>\n      <td>APPAREL</td>\n      <td>$26.85</td>\n    </tr>\n    <tr>\n      <th>3</th>\n      <td>10103</td>\n      <td>30012</td>\n      <td>3.0</td>\n      <td>0.0</td>\n      <td>1/5/2015</td>\n      <td>0.0</td>\n      <td>APPAREL</td>\n      <td>$28.51</td>\n    </tr>\n    <tr>\n      <th>4</th>\n      <td>10037</td>\n      <td>30010</td>\n      <td>8.0</td>\n      <td>0.0</td>\n      <td>1/6/2015</td>\n      <td>0.0</td>\n      <td>APPAREL</td>\n      <td>$25.27</td>\n    </tr>\n  </tbody>\n</table>\n</div>"
     },
     "metadata": {},
     "execution_count": 63
    }
   ],
   "source": [
    "data_PT = combine_()\n",
    "data_PT.head()"
   ]
  },
  {
   "cell_type": "code",
   "execution_count": 64,
   "metadata": {},
   "outputs": [
    {
     "output_type": "execute_result",
     "data": {
      "text/plain": "array(['APPAREL', 'ELECTRONICS'], dtype=object)"
     },
     "metadata": {},
     "execution_count": 64
    }
   ],
   "source": [
    "data_PT['PRODUCT CATEGORY'].unique()"
   ]
  },
  {
   "cell_type": "markdown",
   "metadata": {},
   "source": [
    "## Question 2\n",
    "After combining both data sets For each customer , calculate total spend ,total spend per category ,recent transaction date"
   ]
  },
  {
   "cell_type": "code",
   "execution_count": 65,
   "metadata": {},
   "outputs": [
    {
     "output_type": "execute_result",
     "data": {
      "text/plain": "216"
     },
     "metadata": {},
     "execution_count": 65
    }
   ],
   "source": [
    "agr_cust_df = cust_df\n",
    "agr_cust_df['TOTAL SPENT'] = None\n",
    "for a in range(len(data_PT['PRODUCT CATEGORY'].unique())):\n",
    "    agr_cust_df['TOTAL {}'.format(data_PT['PRODUCT CATEGORY'].unique()[a])] = None\n",
    "agr_cust_df['LAST TRANSACTION'] = None\n",
    "    \n",
    "agr_cust_df['CUSTOMERID'].tolist().index(data_PT.loc[1][0])"
   ]
  },
  {
   "cell_type": "code",
   "execution_count": 67,
   "metadata": {},
   "outputs": [],
   "source": [
    "def total_spent(self):\n",
    "    for count in range(len(self)):\n",
    "        if self.loc[count][1] in agr_cust_df['CUSTOMERID']:\n",
    "            print('YES')\n",
    "        \n",
    "        \n",
    "total_spent(data_PT)"
   ]
  },
  {
   "cell_type": "markdown",
   "metadata": {},
   "source": [
    "## Question 3\n",
    "Do Univariate Analysis "
   ]
  },
  {
   "cell_type": "markdown",
   "metadata": {},
   "source": [
    "## Question 4\n",
    "- Perform Bivariate Analysis (2-variable analysis) where Loyalty is a target variable\n",
    "-  Perform Bivariate Analysis (2-variable analysis) where Customer spend is a target variable\n"
   ]
  },
  {
   "cell_type": "markdown",
   "metadata": {},
   "source": [
    "## Question 5\n",
    "Group combined dataset by Loyalty group and aggregate with mean age. then plot box plot\n"
   ]
  },
  {
   "cell_type": "markdown",
   "metadata": {},
   "source": [
    "## Question 6\n",
    "Group combined dataset by EXPERIENCE SCORE and aggregate with mean TOTAL SPENT and then plot bar plot\n"
   ]
  },
  {
   "cell_type": "code",
   "execution_count": null,
   "metadata": {},
   "outputs": [],
   "source": []
  }
 ],
 "metadata": {
  "kernelspec": {
   "display_name": "Python 3",
   "language": "python",
   "name": "python3"
  },
  "language_info": {
   "codemirror_mode": {
    "name": "ipython",
    "version": 3
   },
   "file_extension": ".py",
   "mimetype": "text/x-python",
   "name": "python",
   "nbconvert_exporter": "python",
   "pygments_lexer": "ipython3",
   "version": "3.7.6-final"
  }
 },
 "nbformat": 4,
 "nbformat_minor": 2
}